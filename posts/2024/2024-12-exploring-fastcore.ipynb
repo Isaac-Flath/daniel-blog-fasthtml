{
 "cells": [
  {
   "cell_type": "markdown",
   "metadata": {},
   "source": [
    "---\n",
    "date: \"2024-12-26T02:00:00.00Z\"\n",
    "description: \"Some useful tools from the fastcore library's basics module\"\n",
    "published: false\n",
    "tags:\n",
    "  - python\n",
    "  - fastcore\n",
    "time_to_read: 2\n",
    "title: \"Exploring fastcore basics\"\n",
    "type: post\n",
    "---"
   ]
  },
  {
   "cell_type": "markdown",
   "metadata": {},
   "source": [
    "- fastcore.basics.AttrDict # Dict turns into class\n",
    "- fastcore.basics.NS # Combines SimpleNamespace with dict powers\n",
    "- camel2snake # Converts strings\n",
    "- snake2camel # converts strings\n",
    "- class2attr # provides snake case version of class name    \n",
    "- first # First item of any collection\n",
    "- last # last item of any collection, be careful with generator expressions!\n",
    "- only # Return the only item of `o`, raise if `o` doesn't have exactly one item\n",
    "\n",
    "For the past six months or so I've been using fastcore. It provides some handy tools that I've leveraged into projects. "
   ]
  },
  {
   "cell_type": "code",
   "execution_count": 2,
   "metadata": {},
   "outputs": [],
   "source": [
    "from fastcore import basics as b"
   ]
  },
  {
   "cell_type": "markdown",
   "metadata": {},
   "source": [
    "## AttrDict"
   ]
  },
  {
   "cell_type": "markdown",
   "metadata": {},
   "source": [
    "`AttrDict` adds attributes to python `dict` without changing equality or how it prints."
   ]
  },
  {
   "cell_type": "code",
   "execution_count": 3,
   "metadata": {},
   "outputs": [
    {
     "data": {
      "text/markdown": [
       "```json\n",
       "{'age': 6, 'name': 'Uma'}\n",
       "```"
      ],
      "text/plain": [
       "{'name': 'Uma', 'age': 6}"
      ]
     },
     "execution_count": 3,
     "metadata": {},
     "output_type": "execute_result"
    }
   ],
   "source": [
    "daughter = b.AttrDict(name='Uma', age=6)\n",
    "daughter"
   ]
  },
  {
   "cell_type": "code",
   "execution_count": 5,
   "metadata": {},
   "outputs": [
    {
     "data": {
      "text/plain": [
       "True"
      ]
     },
     "execution_count": 5,
     "metadata": {},
     "output_type": "execute_result"
    }
   ],
   "source": [
    "daughter == {'age': 6, 'name': 'Uma'}"
   ]
  },
  {
   "cell_type": "code",
   "execution_count": 6,
   "metadata": {},
   "outputs": [
    {
     "data": {
      "text/plain": [
       "True"
      ]
     },
     "execution_count": 6,
     "metadata": {},
     "output_type": "execute_result"
    }
   ],
   "source": [
    "daughter.name == 'Uma'"
   ]
  },
  {
   "cell_type": "code",
   "execution_count": null,
   "metadata": {},
   "outputs": [],
   "source": []
  }
 ],
 "metadata": {
  "kernelspec": {
   "display_name": ".venv",
   "language": "python",
   "name": "python3"
  },
  "language_info": {
   "codemirror_mode": {
    "name": "ipython",
    "version": 3
   },
   "file_extension": ".py",
   "mimetype": "text/x-python",
   "name": "python",
   "nbconvert_exporter": "python",
   "pygments_lexer": "ipython3",
   "version": "3.12.6"
  }
 },
 "nbformat": 4,
 "nbformat_minor": 2
}
